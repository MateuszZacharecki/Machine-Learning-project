version https://git-lfs.github.com/spec/v1
oid sha256:3f1dcf7203244572f345fd775f6b3eefac20a9b0d5d152a1cf199a0b2918a8e2
size 371401
